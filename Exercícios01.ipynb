{
 "cells": [
  {
   "cell_type": "markdown",
   "metadata": {},
   "source": [
    "1 Faça um Programa que peça o raio de um círculo, calcule e mostre sua área."
   ]
  },
  {
   "cell_type": "code",
   "execution_count": 4,
   "metadata": {},
   "outputs": [
    {
     "name": "stdout",
     "output_type": "stream",
     "text": [
      "Digite o raio:\n",
      "30\n",
      "A area do circulo de raio 30 é 2.8e+03\n"
     ]
    }
   ],
   "source": [
    "import math\n",
    "raio = int(input(\"Digite o raio:\\n\"))\n",
    "area = math.pi * (raio ** 2)\n",
    "print(f'A area do circulo de raio {raio} é {area:{5}.{2}}')"
   ]
  },
  {
   "cell_type": "markdown",
   "metadata": {},
   "source": [
    "2 Faça um Programa que calcule a área de um quadrado, em seguida mostre o dobro\n",
    "desta área para o usuário."
   ]
  },
  {
   "cell_type": "code",
   "execution_count": 8,
   "metadata": {},
   "outputs": [
    {
     "name": "stdout",
     "output_type": "stream",
     "text": [
      "Digite o tamanho de um dos lados do quadrado\n",
      "20\n",
      "A area do quadrado é 800\n"
     ]
    }
   ],
   "source": [
    "lado = int(input(\"Digite o tamanho de um dos lados do quadrado\\n\"))\n",
    "dobro_area = (lado ** 2) * 2\n",
    "print(f'A area do quadrado é {dobro_area}')"
   ]
  },
  {
   "cell_type": "markdown",
   "metadata": {},
   "source": [
    "3 Faça um Programa que pergunte quanto você ganha por hora e o número de horas\n",
    "trabalhadas no mês. Calcule e mostre o total do seu salário no referido mês."
   ]
  },
  {
   "cell_type": "code",
   "execution_count": 12,
   "metadata": {},
   "outputs": [
    {
     "name": "stdout",
     "output_type": "stream",
     "text": [
      "Informe seu salário por hora\n",
      "80\n",
      "Informe quantas hora voce trabalha por mes\n",
      "180\n",
      "Seu salário mensal é de R$ 14400.00\n"
     ]
    }
   ],
   "source": [
    "salario_hora = int (input(\"Informe seu salário por hora\\n\"))\n",
    "numero_hora = int (input(\"Informe quantas hora voce trabalha por mes\\n\"))\n",
    "salario = (salario_hora * numero_hora)\n",
    "print('Seu salário mensal é de R$ %.2f' %salario)"
   ]
  },
  {
   "cell_type": "markdown",
   "metadata": {},
   "source": [
    "4 Faça um Programa que peça a temperatura em graus Farenheit, transforme e\n",
    "mostre a temperatura em graus Celsius. C = (5 * (F-32) / 9)."
   ]
  },
  {
   "cell_type": "code",
   "execution_count": 13,
   "metadata": {},
   "outputs": [
    {
     "name": "stdout",
     "output_type": "stream",
     "text": [
      "Informe a temperatura em Farenheit130\n",
      "A temperatura em celsius é de 54.44\n"
     ]
    }
   ],
   "source": [
    "farenheit = int(input(\"Informe a temperatura em Farenheit\\n\"))\n",
    "celsius = (5 * (farenheit - 32) / 9)\n",
    "print('A temperatura em celsius é de %.1f°' %celsius)"
   ]
  },
  {
   "cell_type": "markdown",
   "metadata": {},
   "source": [
    "5  Faça um Programa que peça a temperatura em graus Celsius, transforme e mostre\n",
    "em graus Farenheit."
   ]
  },
  {
   "cell_type": "code",
   "execution_count": 21,
   "metadata": {},
   "outputs": [
    {
     "name": "stdout",
     "output_type": "stream",
     "text": [
      "Informe a temperatura em Celsius\n",
      "125\n",
      "A temperatura em Farenheit é de 257.0°\n"
     ]
    }
   ],
   "source": [
    "celsius = int(input(\"Informe a temperatura em Celsius\\n\"))\n",
    "farenheit = (celsius * 1.8000) + 32.0\n",
    "print('A temperatura em Farenheit é de %.1f°' %farenheit)"
   ]
  },
  {
   "cell_type": "markdown",
   "metadata": {},
   "source": [
    "6 Faça um Programa que peça 2 números inteiros e um número real. Calcule e\n",
    "mostre:\n",
    "- o produto do dobro do primeiro com metade do segundo .\n",
    "- a soma do triplo do primeiro com o terceiro.\n",
    "- o terceiro elevado ao cubo"
   ]
  },
  {
   "cell_type": "code",
   "execution_count": 20,
   "metadata": {},
   "outputs": [
    {
     "name": "stdout",
     "output_type": "stream",
     "text": [
      "Digite um número inteiro\n",
      "30\n",
      "Digite outro número inteiro\n",
      "30\n",
      "Digite um número real\n",
      "30.5\n",
      "O produto do dobro do primeiro com metade do segundo é 900\n",
      "A soma do triplo do primeiro com o terceiro é 120.5\n",
      "O terceiro elevado ao cudo é 28372.62\n"
     ]
    }
   ],
   "source": [
    "primeiro_numero = int (input(\"Digite um número inteiro\\n\"))\n",
    "segundo_numero = int (input(\"Digite outro número inteiro\\n\"))\n",
    "numero_real = float (input(\"Digite um número real\\n\"))\n",
    "\n",
    "produto_dobro = (primeiro_numero * 2) * (segundo_numero // 2)\n",
    "soma_triplo = (primeiro_numero * 3) + numero_real\n",
    "ao_cubo = numero_real ** 3\n",
    "\n",
    "print('O produto do dobro do primeiro com metade do segundo é {}\\nA soma do triplo do primeiro com o terceiro é {}'.format(produto_dobro,soma_triplo,))\n",
    "print(f'O terceiro elevado ao cudo é %.2f' %ao_cubo)"
   ]
  },
  {
   "cell_type": "markdown",
   "metadata": {},
   "source": [
    "7 João Papo-de-Pescador, homem de bem, comprou um microcomputador para controlar o rendimento diário de seu trabalho. Toda vez que ele traz um peso de peixes maior que o estabelecido pelo regulamento de pesca do estado de São Paulo (50 quilos) deve pagar uma multa de R$ 4,00 por quilo excedente. João precisa que você faça um programa que leia a variável peso (peso de peixes) e verifique se há excesso. Se houver, gravar na variável excesso e na variável multa o valor da multa que João deverá pagar. Caso contrário mostrar tais variáveis com o conteúdo ZERO."
   ]
  },
  {
   "cell_type": "code",
   "execution_count": 32,
   "metadata": {},
   "outputs": [
    {
     "name": "stdout",
     "output_type": "stream",
     "text": [
      "Informe o peso total dos peixes\n",
      "30\n",
      "O peso não excedeu o limite permitido por lei\n",
      "-Excesso 0\n",
      "-Multa 0\n"
     ]
    }
   ],
   "source": [
    "peso_peixes = float(input(\"Informe o peso total dos peixes\\n\"))\n",
    "multa = 0\n",
    "excesso = 0\n",
    "if peso_peixes > 50:\n",
    "    excesso = peso_peixes - 50\n",
    "    multa = 4.0 * excesso\n",
    "    print(f'O peso excedeu o limite permitido por lei. Valor da multa R$ {multa}')\n",
    "else:\n",
    "    print(f'O peso não excedeu o limite permitido por lei\\n-Excesso {excesso}\\n-Multa {multa}')"
   ]
  },
  {
   "cell_type": "markdown",
   "metadata": {},
   "source": [
    "8 Faça um Programa que pergunte quanto você ganha por hora e o número de horas\n",
    "trabalhadas no mês. Calcule e mostre o total do seu salário no referido mês,\n",
    "sabendo-se que são descontados 11% para o Imposto de Renda, 8% para o INSS e 5%\n",
    "para o sindicato, faça um programa que nos dê:\n",
    "- salário bruto.\n",
    "- quanto pagou ao INSS.\n",
    "- quanto pagou ao sindicato.\n",
    "- o salário líquido.\n",
    "- calcule os descontos e o salário líquido, conforme a tabela abaixo:\n",
    " + Salário Bruto : R$\n",
    " - IR (11%) : R$\n",
    " - INSS (8%) : R$\n",
    " - Sindicato ( 5%) : R$\n",
    " = Salário Liquido : R$\n",
    "Obs.: Salário Bruto - Descontos = Salário Líquido."
   ]
  },
  {
   "cell_type": "code",
   "execution_count": 3,
   "metadata": {},
   "outputs": [
    {
     "name": "stdout",
     "output_type": "stream",
     "text": [
      "Informe seu salario por hora\n",
      "30\n",
      "Informe o total de horas trabalhadas por mes160\n",
      "Salario bruto: 4800.0\n",
      "INSS: 384.0\n",
      "Taxa sindicato: 240.0\n",
      "Salario liquido: 3648.0\n"
     ]
    }
   ],
   "source": [
    "salario_hora = float(input(\"Informe seu salario por hora\\n\"))\n",
    "hora_trabalhada = float(input(\"Informe o total de horas trabalhadas por mes\\n\"))\n",
    "salario_bruto = salario_hora * hora_trabalhada\n",
    "total_imposto_renda = (salario_bruto * 11) // 100\n",
    "total_inss = (salario_bruto * 8) // 100\n",
    "total_sindicato = (salario_bruto * 5) // 100\n",
    "desconto = total_imposto_renda + total_inss + total_sindicato\n",
    "salario_liquido = salario_bruto - desconto\n",
    "\n",
    "print('\\nSalario bruto: {}\\nINSS: {}\\nTaxa sindicato: {}\\nSalario liquido: {}'.format(salario_bruto,total_inss,total_sindicato,salario_liquido))"
   ]
  },
  {
   "cell_type": "markdown",
   "metadata": {},
   "source": [
    "9 Faça um programa que leia 2 strings e informe o conteúdo delas seguido do seu\n",
    "comprimento. Informe também se as duas strings possuem o mesmo comprimento e\n",
    "são iguais ou diferentes no conteúdo.\n",
    "Exemplo:\n",
    "String 1: Brasil Hexa 2018\n",
    "String 2: Brasil! Hexa 2018!\n",
    "Tamanho de \"Brasil Hexa 2018\": 16 caracteres\n",
    "Tamanho de \"Brasil! Hexa 2018!\": 18 caracteres\n",
    "As duas strings são de tamanhos diferentes.\n",
    "As duas strings possuem conteúdo diferente."
   ]
  },
  {
   "cell_type": "code",
   "execution_count": 15,
   "metadata": {},
   "outputs": [
    {
     "name": "stdout",
     "output_type": "stream",
     "text": [
      "Primeira String\n",
      "Hello\n",
      "Segunda String\n",
      "Python3\n",
      "String 1: Hello - Comprimento: 5\n",
      "String 2: Python3 - Comprimento: 7\n",
      "Strings diferentes\n"
     ]
    }
   ],
   "source": [
    "string1 = str (input(\"Primeira String\\n\"))\n",
    "string2 = str (input(\"Segunda String\\n\"))\n",
    "\n",
    "print('String 1: {} - Comprimento: {}\\nString 2: {} - Comprimento: {}'.format(string1,len(string1),string2,len(string2)))\n",
    "\n",
    "if len(string1) == len(string2) and string1 == string2:\n",
    "    print(\"Strings identicas\")\n",
    "elif len(string1) == len(string2) and string1 != string2:\n",
    "    print(\"Strings diferentes de tamanhos iguais\")\n",
    "else:\n",
    "    print(\"Strings diferentes\")\n",
    "\n"
   ]
  },
  {
   "cell_type": "markdown",
   "metadata": {},
   "source": [
    "10 Faça um programa que permita ao usuário digitar o seu nome e em seguida\n",
    "mostre o nome do usuário de trás para frente utilizando somente letras maiúsculas.\n",
    "Dica: lembre−se que ao informar o nome o usuário pode digitar letras maiúsculas ou\n",
    "minúsculas. Observação: não use loops."
   ]
  },
  {
   "cell_type": "code",
   "execution_count": 1,
   "metadata": {},
   "outputs": [
    {
     "name": "stdout",
     "output_type": "stream",
     "text": [
      "Digite seu nome em letras minusculas ou maiusculasFERNANDO\n",
      "ODNANREF\n"
     ]
    }
   ],
   "source": [
    "usuario = str (input(\"Digite seu nome em letras minusculas ou maiusculas\"))\n",
    "print(usuario.upper()[::-1])"
   ]
  },
  {
   "cell_type": "markdown",
   "metadata": {},
   "source": [
    "11 Faça um programa que solicite a data de nascimento (dd/mm/aaaa) do usuário e\n",
    "imprima a data com o nome do mês por extenso.\n",
    "Data de Nascimento: 29/10/1973\n",
    "Você nasceu em 29 de Outubro de 1973.\n",
    "Obs.: Não use desvio condicional nem loops."
   ]
  },
  {
   "cell_type": "code",
   "execution_count": 7,
   "metadata": {},
   "outputs": [
    {
     "name": "stdout",
     "output_type": "stream",
     "text": [
      "Informe sua data de nascimento dd/mm/aaaa\n",
      "24/01/1995\n"
     ]
    },
    {
     "ename": "KeyError",
     "evalue": "'0'",
     "output_type": "error",
     "traceback": [
      "\u001b[1;31m---------------------------------------------------------------------------\u001b[0m",
      "\u001b[1;31mKeyError\u001b[0m                                  Traceback (most recent call last)",
      "\u001b[1;32m<ipython-input-7-b5e03b778c6b>\u001b[0m in \u001b[0;36m<module>\u001b[1;34m()\u001b[0m\n\u001b[0;32m      5\u001b[0m \u001b[0mmes\u001b[0m \u001b[1;33m=\u001b[0m \u001b[0mdata_nasc\u001b[0m\u001b[1;33m[\u001b[0m\u001b[1;36m3\u001b[0m\u001b[1;33m:\u001b[0m\u001b[1;36m4\u001b[0m\u001b[1;33m]\u001b[0m\u001b[1;33m\u001b[0m\u001b[0m\n\u001b[0;32m      6\u001b[0m \u001b[0mano\u001b[0m \u001b[1;33m=\u001b[0m \u001b[0mdata_nasc\u001b[0m\u001b[1;33m[\u001b[0m\u001b[1;36m6\u001b[0m\u001b[1;33m:\u001b[0m\u001b[1;36m9\u001b[0m\u001b[1;33m]\u001b[0m\u001b[1;33m\u001b[0m\u001b[0m\n\u001b[1;32m----> 7\u001b[1;33m \u001b[0mprint\u001b[0m\u001b[1;33m(\u001b[0m\u001b[1;34m'Você nasceu em {} de {} de {}'\u001b[0m\u001b[1;33m.\u001b[0m\u001b[0mformat\u001b[0m\u001b[1;33m(\u001b[0m\u001b[0mdia\u001b[0m\u001b[1;33m,\u001b[0m\u001b[0mmeses\u001b[0m\u001b[1;33m[\u001b[0m\u001b[0mmes\u001b[0m\u001b[1;33m]\u001b[0m\u001b[1;33m,\u001b[0m\u001b[0mano\u001b[0m\u001b[1;33m)\u001b[0m\u001b[1;33m)\u001b[0m\u001b[1;33m\u001b[0m\u001b[0m\n\u001b[0m",
      "\u001b[1;31mKeyError\u001b[0m: '0'"
     ]
    }
   ],
   "source": [
    "data_nasc = str (input(\"Informe sua data de nascimento dd/mm/aaaa\\n\"))\n",
    "meses = {'01':'Janeiro','02':'Fevereiro','03':'Março','04':'Abril','05':'Maio','06':'Junho','07':'Julho',\n",
    "         '08':'Agosto','09':'Setembro','10':'Outubro','11':'Novembro','12':'Dezembro'}\n",
    "dia = data_nasc[:1]\n",
    "mes = data_nasc[3:4]\n",
    "ano = data_nasc[6:9]\n",
    "print('Você nasceu em {} de {} de {}'.format(dia,meses[mes],ano))\n"
   ]
  },
  {
   "cell_type": "code",
   "execution_count": null,
   "metadata": {},
   "outputs": [],
   "source": []
  }
 ],
 "metadata": {
  "kernelspec": {
   "display_name": "Python 3",
   "language": "python",
   "name": "python3"
  },
  "language_info": {
   "codemirror_mode": {
    "name": "ipython",
    "version": 3
   },
   "file_extension": ".py",
   "mimetype": "text/x-python",
   "name": "python",
   "nbconvert_exporter": "python",
   "pygments_lexer": "ipython3",
   "version": "3.7.0"
  }
 },
 "nbformat": 4,
 "nbformat_minor": 2
}
